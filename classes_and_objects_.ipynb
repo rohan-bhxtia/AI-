{
  "cells": [
    {
      "cell_type": "code",
      "execution_count": 4,
      "metadata": {
        "colab": {
          "base_uri": "https://localhost:8080/"
        },
        "id": "zhAVORqFPSNj",
        "outputId": "71b1baec-52f4-44b7-b8ba-29cb92fddbea"
      },
      "outputs": [
        {
          "name": "stdout",
          "output_type": "stream",
          "text": [
            "hello word\n"
          ]
        }
      ],
      "source": [
        "print(\"hello word\")"
      ]
    },
    {
      "cell_type": "code",
      "execution_count": null,
      "metadata": {
        "colab": {
          "base_uri": "https://localhost:8080/"
        },
        "id": "wPK5bSbrPbV_",
        "outputId": "eb046d3f-8c2c-4e24-9a45-9c9e80dbfa9d"
      },
      "outputs": [
        {
          "name": "stdout",
          "output_type": "stream",
          "text": [
            "<class '__main__.Car'>\n"
          ]
        }
      ],
      "source": [
        "class Car:# car is a class (blueprint)\n",
        "    pass\n",
        "\n",
        "audi =Car() #audi and bmw are objects ( the actual thing made from blueprint)\n",
        "bmw =Car()\n",
        "\n",
        "print(type(audi))"
      ]
    },
    {
      "cell_type": "code",
      "execution_count": 6,
      "metadata": {
        "id": "8QELE2dOQBX0"
      },
      "outputs": [
        {
          "name": "stdout",
          "output_type": "stream",
          "text": [
            "<__main__.Car object at 0x7fcad137b710>\n"
          ]
        }
      ],
      "source": [
        " print(audi)"
      ]
    },
    {
      "cell_type": "code",
      "execution_count": null,
      "metadata": {},
      "outputs": [
        {
          "name": "stdout",
          "output_type": "stream",
          "text": [
            "4\n"
          ]
        }
      ],
      "source": [
        "audi.windows=4\n",
        "print(audi.windows) #windows is attribute"
      ]
    },
    {
      "cell_type": "code",
      "execution_count": 8,
      "metadata": {},
      "outputs": [
        {
          "data": {
            "text/plain": [
              "['__class__',\n",
              " '__delattr__',\n",
              " '__dict__',\n",
              " '__dir__',\n",
              " '__doc__',\n",
              " '__eq__',\n",
              " '__format__',\n",
              " '__ge__',\n",
              " '__getattribute__',\n",
              " '__getstate__',\n",
              " '__gt__',\n",
              " '__hash__',\n",
              " '__init__',\n",
              " '__init_subclass__',\n",
              " '__le__',\n",
              " '__lt__',\n",
              " '__module__',\n",
              " '__ne__',\n",
              " '__new__',\n",
              " '__reduce__',\n",
              " '__reduce_ex__',\n",
              " '__repr__',\n",
              " '__setattr__',\n",
              " '__sizeof__',\n",
              " '__str__',\n",
              " '__subclasshook__',\n",
              " '__weakref__']"
            ]
          },
          "execution_count": 8,
          "metadata": {},
          "output_type": "execute_result"
        }
      ],
      "source": [
        "  dir(Car)"
      ]
    },
    {
      "cell_type": "code",
      "execution_count": null,
      "metadata": {},
      "outputs": [],
      "source": [
        "# see above are many methods ... but we are talking abt __init__ \n",
        "# this init is a constructor \n",
        "\n",
        "# we'll do this in INSTANCE VARIABLES AND METHODS\n"
      ]
    },
    {
      "cell_type": "code",
      "execution_count": 11,
      "metadata": {},
      "outputs": [
        {
          "name": "stdout",
          "output_type": "stream",
          "text": [
            "bruno\n",
            "4\n"
          ]
        }
      ],
      "source": [
        "#INSTANCE VARAIBLES AND METHODS \n",
        "\n",
        "class dog:\n",
        "    ##constructor\n",
        "    def __init__(self,name,age):   #__init__ is a methhod \n",
        "        self.name=name           ##self is like ( write ur name = name) \n",
        "        self.age=age             #anything which comes with self is called INSTANCE VARIABLE\n",
        "\n",
        "#creating objects \n",
        "dog1 = dog(\"bruno\",4)\n",
        "print(dog1.name)      \n",
        "print(dog1.age)        "
      ]
    },
    {
      "cell_type": "code",
      "execution_count": 12,
      "metadata": {},
      "outputs": [
        {
          "name": "stdout",
          "output_type": "stream",
          "text": [
            "buddy says woof\n"
          ]
        }
      ],
      "source": [
        "#define a class with instance method\n",
        " \n",
        "class dog:\n",
        "    def __init__(self,name,age):\n",
        "        self.name =name\n",
        "        self.age= age\n",
        "    def bark(self):\n",
        "        print(f\"{self.name} says woof\")\n",
        "\n",
        "\n",
        "\n",
        "dog1 =dog(\"buddy\",4)\n",
        "dog1.bark()            "
      ]
    },
    {
      "cell_type": "code",
      "execution_count": null,
      "metadata": {},
      "outputs": [],
      "source": []
    }
  ],
  "metadata": {
    "colab": {
      "provenance": []
    },
    "kernelspec": {
      "display_name": "Python 3",
      "name": "python3"
    },
    "language_info": {
      "codemirror_mode": {
        "name": "ipython",
        "version": 3
      },
      "file_extension": ".py",
      "mimetype": "text/x-python",
      "name": "python",
      "nbconvert_exporter": "python",
      "pygments_lexer": "ipython3",
      "version": "3.12.11"
    }
  },
  "nbformat": 4,
  "nbformat_minor": 0
}
