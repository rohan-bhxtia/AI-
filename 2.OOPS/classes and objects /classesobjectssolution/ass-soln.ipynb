{
 "cells": [
  {
   "cell_type": "code",
   "execution_count": 1,
   "id": "7830037b",
   "metadata": {},
   "outputs": [
    {
     "name": "stdout",
     "output_type": "stream",
     "text": [
      "hello world\n"
     ]
    }
   ],
   "source": [
    "print(\"hello world\")"
   ]
  },
  {
   "cell_type": "code",
   "execution_count": 10,
   "id": "43a9b57b",
   "metadata": {},
   "outputs": [
    {
     "name": "stdout",
     "output_type": "stream",
     "text": [
      "m5\n",
      "bmw\n",
      "verna\n",
      "2023\n"
     ]
    }
   ],
   "source": [
    "### Create a class named `Car` with attributes `make`, `model`, and `year`. Create an object of the class and print its attributes.\n",
    "\n",
    "class car:\n",
    "    def __init__(self,make,model,year):\n",
    "        self.name= make\n",
    "        self.model=model\n",
    "        self.year=year\n",
    "\n",
    "\n",
    "#objects \n",
    "car1=car(\"bmw\",\"m5\",2022)\n",
    "car2=car(\"hyundai\",\"verna\",2023)\n",
    "\n",
    "\n",
    "print(car1.model)\n",
    "print(car1.name)\n",
    "print(car2.model)\n",
    "print(car2.year)\n"
   ]
  },
  {
   "cell_type": "code",
   "execution_count": 21,
   "id": "0684e6fd",
   "metadata": {},
   "outputs": [],
   "source": [
    "#Add a method named `start_engine` to the `Car` class that prints a message when the engine starts.\n",
    "#Create an object of the class and call the method.\n",
    "\n",
    "class car:\n",
    "    def __init__(self,name,model):\n",
    "        self.name =name\n",
    "        self.model=model\n",
    "\n",
    "    def start_engine(self):\n",
    "        print(\"engine has started\")    \n",
    "\n",
    "#creating object \n",
    "car1 = car(\"toyota\",\"supra\")\n",
    "car2 =car(\"ford\",\"mustang\")\n"
   ]
  },
  {
   "cell_type": "code",
   "execution_count": 22,
   "id": "f340167d",
   "metadata": {},
   "outputs": [
    {
     "name": "stdout",
     "output_type": "stream",
     "text": [
      "engine has started\n"
     ]
    }
   ],
   "source": [
    "car1.start_engine()"
   ]
  },
  {
   "cell_type": "code",
   "execution_count": 25,
   "id": "000f5d7c",
   "metadata": {},
   "outputs": [],
   "source": [
    "#Create a class named `Student` with attributes `name` and `age`.\n",
    "#Use a constructor to initialize these attributes. Create an object of the class and print its attributes.\n",
    "\n",
    "class student:\n",
    "    def __init__(self,name,age):\n",
    "        self.name=name\n",
    "        self.age =age\n",
    "\n",
    "#creating object\n",
    "stud = student(\"rohan\",23)\n",
    "stud2 = student(\"robin\",24)        "
   ]
  },
  {
   "cell_type": "code",
   "execution_count": 29,
   "id": "28456548",
   "metadata": {},
   "outputs": [
    {
     "name": "stdout",
     "output_type": "stream",
     "text": [
      "rohan\n",
      "robin 24\n"
     ]
    }
   ],
   "source": [
    "print(stud.name)\n",
    "print(stud2.name,stud2.age)"
   ]
  },
  {
   "cell_type": "code",
   "execution_count": 31,
   "id": "040f77b6",
   "metadata": {},
   "outputs": [],
   "source": [
    "#Create a class named `BankAccount` with private attributes `account_number` and `balance`.\n",
    "#Add methods to deposit and withdraw money, and to check the balance. Create an object of the class and perform some operations.\n",
    "\n",
    "\n",
    "\n",
    "##done already"
   ]
  },
  {
   "cell_type": "code",
   "execution_count": 33,
   "id": "361f9a07",
   "metadata": {},
   "outputs": [],
   "source": [
    "#Create a base class named `Person` with attributes `name` and `age`.\n",
    "#Create a derived class named `Employee` that inherits from `Person` and adds an attribute `employee_id`.\n",
    "#Create an object of the derived class and print its attributes.\n",
    "\n",
    "\n",
    "\n",
    "class person:\n",
    "    def __init__(self,name,age):\n",
    "        self.name =name\n",
    "        self.age =age\n",
    "\n",
    "    def employee(self,employee_id):\n",
    "        self.id = employee_id\n",
    "\n",
    "#creating object\n",
    "\n",
    "per1=person(\"meli\",35)\n",
    "per2 = person(\"jaggi\",26)        "
   ]
  },
  {
   "cell_type": "code",
   "execution_count": 36,
   "id": "70100828",
   "metadata": {},
   "outputs": [
    {
     "name": "stdout",
     "output_type": "stream",
     "text": [
      "meli is 35\n"
     ]
    }
   ],
   "source": [
    "print(per1.name, \"is\", per1.age)"
   ]
  },
  {
   "cell_type": "code",
   "execution_count": 43,
   "id": "4f1731d8",
   "metadata": {},
   "outputs": [],
   "source": [
    "#In the `Employee` class, override the `__str__` method to return a string representation of the object.\n",
    "#Create an object of the class and print it.\n",
    "\n",
    "\n",
    "class employee:\n",
    "    def __init__(self,name,age):\n",
    "        self.name = name\n",
    "        self.age = age\n",
    "\n",
    "    def __str__(self ):\n",
    "        return f\"employee name is {self.name} and employee age is {self.age}\"\n",
    "    \n",
    "#creating this object\n",
    "emp1 = employee(\"rohan\",22)\n",
    "emp2 = employee(\"robin\",23)\n",
    "emp3 = employee(\"harsh\",22)    "
   ]
  },
  {
   "cell_type": "code",
   "execution_count": 44,
   "id": "026eb93f",
   "metadata": {},
   "outputs": [
    {
     "name": "stdout",
     "output_type": "stream",
     "text": [
      "employee name is rohan and employee age is 22\n",
      "employee name is harsh and employee age is 22\n"
     ]
    }
   ],
   "source": [
    "print(emp1)\n",
    "print(emp3)\n"
   ]
  },
  {
   "cell_type": "code",
   "execution_count": 69,
   "id": "55d9c672",
   "metadata": {},
   "outputs": [
    {
     "ename": "NameError",
     "evalue": "name 'f' is not defined",
     "output_type": "error",
     "traceback": [
      "\u001b[31m---------------------------------------------------------------------------\u001b[39m",
      "\u001b[31mNameError\u001b[39m                                 Traceback (most recent call last)",
      "\u001b[36mCell\u001b[39m\u001b[36m \u001b[39m\u001b[32mIn[69]\u001b[39m\u001b[32m, line 26\u001b[39m\n\u001b[32m     22\u001b[39m per1 = person(\u001b[33m\"\u001b[39m\u001b[33mrohan\u001b[39m\u001b[33m\"\u001b[39m,address(\u001b[33m\"\u001b[39m\u001b[33m10/3\u001b[39m\u001b[33m\"\u001b[39m,\u001b[33m\"\u001b[39m\u001b[33mDelhi\u001b[39m\u001b[33m\"\u001b[39m,\u001b[32m110089\u001b[39m))\n\u001b[32m     23\u001b[39m per2 = person(\u001b[33m\"\u001b[39m\u001b[33mrobin\u001b[39m\u001b[33m\"\u001b[39m,address(\u001b[33m\"\u001b[39m\u001b[33m3b\u001b[39m\u001b[33m\"\u001b[39m,\u001b[33m\"\u001b[39m\u001b[33mbathinda\u001b[39m\u001b[33m\"\u001b[39m,\u001b[32m151001\u001b[39m))        \n\u001b[32m---> \u001b[39m\u001b[32m26\u001b[39m \u001b[38;5;28;43mprint\u001b[39;49m\u001b[43m(\u001b[49m\u001b[43mper1\u001b[49m\u001b[43m.\u001b[49m\u001b[43maddress\u001b[49m\u001b[43m)\u001b[49m\n",
      "\u001b[36mCell\u001b[39m\u001b[36m \u001b[39m\u001b[32mIn[69]\u001b[39m\u001b[32m, line 11\u001b[39m, in \u001b[36maddress.__str__\u001b[39m\u001b[34m(self)\u001b[39m\n\u001b[32m     10\u001b[39m \u001b[38;5;28;01mdef\u001b[39;00m\u001b[38;5;250m \u001b[39m\u001b[34m__str__\u001b[39m(\u001b[38;5;28mself\u001b[39m):\n\u001b[32m---> \u001b[39m\u001b[32m11\u001b[39m     \u001b[38;5;28;01mreturn\u001b[39;00m \u001b[43mf\u001b[49m( {\u001b[38;5;28mself\u001b[39m.street},{\u001b[38;5;28mself\u001b[39m.city},{\u001b[38;5;28mself\u001b[39m.zipcode})\n",
      "\u001b[31mNameError\u001b[39m: name 'f' is not defined"
     ]
    }
   ],
   "source": [
    "# Create a class named `Address` with attributes `street`, `city`, and `zipcode`. Create a class named `Person` that has an `Address` object as an attribute. \n",
    "# Create an object of the `Person` class and print its address.\n",
    "\n",
    "\n",
    "class address:\n",
    "    def __init__(self,street,city,code):\n",
    "        self.street = street\n",
    "        self.city = city\n",
    "        self.zipcode = code \n",
    "    def __str__(self):\n",
    "        return f( {self.street},{self.city},{self.zipcode})    \n",
    "\n",
    "class person:\n",
    "    def __init__ (self,name,address):\n",
    "        self.name = name\n",
    "        self.address = address\n",
    "    def __str__(self):\n",
    "        return f\"{self.name}\"    \n",
    "\n",
    "#object\n",
    "\n",
    "per1 = person(\"rohan\",address(\"10/3\",\"Delhi\",110089))\n",
    "per2 = person(\"robin\",address(\"3b\",\"bathinda\",151001))        \n",
    "\n",
    "\n",
    "print(per1.address)"
   ]
  },
  {
   "cell_type": "code",
   "execution_count": null,
   "id": "4f46cd10",
   "metadata": {},
   "outputs": [],
   "source": []
  },
  {
   "cell_type": "code",
   "execution_count": null,
   "id": "5f2c39d6",
   "metadata": {},
   "outputs": [],
   "source": []
  }
 ],
 "metadata": {
  "kernelspec": {
   "display_name": "Python 3",
   "language": "python",
   "name": "python3"
  },
  "language_info": {
   "codemirror_mode": {
    "name": "ipython",
    "version": 3
   },
   "file_extension": ".py",
   "mimetype": "text/x-python",
   "name": "python",
   "nbconvert_exporter": "python",
   "pygments_lexer": "ipython3",
   "version": "3.12.11"
  }
 },
 "nbformat": 4,
 "nbformat_minor": 5
}
